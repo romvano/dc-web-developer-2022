{
 "cells": [
  {
   "cell_type": "markdown",
   "id": "c58a3a3d",
   "metadata": {},
   "source": [
    "# Шаблоны"
   ]
  },
  {
   "cell_type": "markdown",
   "id": "7273b9e5",
   "metadata": {},
   "source": [
    "   __Шаблоны Django__ - это мощный инструмент для создания динамических веб-страниц. Они позволяют отделять HTML-код от Python-кода в представлениях, упрощая разработку и поддержку веб-приложений."
   ]
  },
  {
   "cell_type": "markdown",
   "id": "cc1b2bb9",
   "metadata": {},
   "source": [
    "Шаблон содержит статические части желаемого вывода HTML, а также некоторый специальный синтаксис, описывающий, как будет вставлен динамический контент."
   ]
  },
  {
   "cell_type": "markdown",
   "id": "b800af8d",
   "metadata": {},
   "source": [
    "   Django определяет стандартный API для загрузки и рендеринга шаблонов независимо от серверной части. Загрузка состоит из поиска шаблона для данного идентификатора и его предварительной обработки, обычно компилируя его в представление в памяти. Рендеринг означает интерполяцию шаблона с данными контекста и возврат результирующей строки."
   ]
  },
  {
   "cell_type": "markdown",
   "id": "4219c519",
   "metadata": {},
   "source": [
    "## Язык шаблонов Django"
   ]
  },
  {
   "cell_type": "markdown",
   "id": "085b54e1",
   "metadata": {},
   "source": [
    "__Шаблон Django__ - это текстовый документ или строка Python, размеченная с использованием языка шаблонов Django. Некоторые конструкции распознаются и интерпретируются механизмом шаблонов. Основные из них - __переменные__ и __теги__.<br></br>\n",
    "\n",
    "Шаблон отображается с контекстом. Визуализация заменяет переменные их значениями, которые ищутся в контексте, и выполняет теги. Все остальное выводится как есть.<br></br>\n",
    "\n",
    "Синтаксис языка шаблонов Django включает четыре конструкции:\n",
    "\n"
   ]
  },
  {
   "cell_type": "markdown",
   "id": "0b81f20d",
   "metadata": {},
   "source": [
    "### Переменные"
   ]
  },
  {
   "cell_type": "markdown",
   "id": "70b2c7b5",
   "metadata": {},
   "source": [
    "__Переменная__ выводит значение из контекста, которое представляет собой dict-подобный объект, отображающий ключи к значениям.<br></br>\n",
    "\n",
    "Переменные окружены {{ ... }}:"
   ]
  },
  {
   "cell_type": "code",
   "execution_count": null,
   "id": "71632159",
   "metadata": {},
   "outputs": [],
   "source": [
    "My first name is {{ first_name }}. My last name is {{ last_name }}."
   ]
  },
  {
   "cell_type": "markdown",
   "id": "ec53346a",
   "metadata": {},
   "source": [
    "Поиск по словарю, поиск по атрибутам и поиск по списку-индексу реализованы с использованием точечной нотации:"
   ]
  },
  {
   "cell_type": "code",
   "execution_count": null,
   "id": "e96b44f3",
   "metadata": {},
   "outputs": [],
   "source": [
    "{{ dict.key }}\n",
    "{{ object.attribute }}\n",
    "{{ list.0 }}"
   ]
  },
  {
   "cell_type": "markdown",
   "id": "167b87fa",
   "metadata": {},
   "source": [
    "Если переменная преобразуется в вызываемый объект, система шаблонов вызовет его без аргументов и будет использовать его результат вместо вызываемого."
   ]
  },
  {
   "cell_type": "markdown",
   "id": "5a8cd650",
   "metadata": {},
   "source": [
    "### Теги"
   ]
  },
  {
   "cell_type": "markdown",
   "id": "46cc2486",
   "metadata": {},
   "source": [
    "__Теги__ обеспечивают произвольную логику в процессе рендеринга.<br></br>\n",
    "\n",
    "Тег может выводить контент, служить структурой управления, например, оператором «if» или циклом «for», захватывать контент из базы данных или даже обеспечивать доступ к другим тегам шаблона.<br></br>\n",
    "\n",
    "Теги окружены {% ... %}:"
   ]
  },
  {
   "cell_type": "code",
   "execution_count": null,
   "id": "119397b9",
   "metadata": {},
   "outputs": [],
   "source": [
    "{% csrf_token %}"
   ]
  },
  {
   "cell_type": "markdown",
   "id": "8e139eeb",
   "metadata": {},
   "source": [
    "Большинство тегов принимают аргументы:"
   ]
  },
  {
   "cell_type": "code",
   "execution_count": null,
   "id": "2e1b9769",
   "metadata": {},
   "outputs": [],
   "source": [
    "{% cycle 'odd' 'even' %}"
   ]
  },
  {
   "cell_type": "markdown",
   "id": "78c7b386",
   "metadata": {},
   "source": [
    "Для некоторых тегов требуются начальные и конечные теги:"
   ]
  },
  {
   "cell_type": "code",
   "execution_count": null,
   "id": "0dd34f76",
   "metadata": {},
   "outputs": [],
   "source": [
    "{% if user.is_authenticated %} \n",
    "\n",
    "    Hello, {{ user.username }}.\n",
    "    \n",
    "{% endif %}"
   ]
  },
  {
   "cell_type": "markdown",
   "id": "69903c04",
   "metadata": {},
   "source": [
    "### Фильтры "
   ]
  },
  {
   "cell_type": "markdown",
   "id": "13eb8e28",
   "metadata": {},
   "source": [
    "__Фильтры__ преобразуют значения переменных и аргументов тегов."
   ]
  },
  {
   "cell_type": "code",
   "execution_count": null,
   "id": "b3cf90c1",
   "metadata": {},
   "outputs": [],
   "source": [
    "{{ django|title }}"
   ]
  },
  {
   "cell_type": "markdown",
   "id": "1ef886bb",
   "metadata": {},
   "source": [
    "В контексте этот шаблон отображает: __{'django': 'the web framework for perfectionists with deadlines'}__"
   ]
  },
  {
   "cell_type": "code",
   "execution_count": null,
   "id": "0f8cc705",
   "metadata": {},
   "outputs": [],
   "source": [
    "The Web Framework For Perfectionists With Deadlines"
   ]
  },
  {
   "cell_type": "markdown",
   "id": "31d320a2",
   "metadata": {},
   "source": [
    "Некоторые фильтры принимают аргумент:"
   ]
  },
  {
   "cell_type": "code",
   "execution_count": null,
   "id": "62a53306",
   "metadata": {},
   "outputs": [],
   "source": [
    "{{ today|date:\"Y-m-d\" }}"
   ]
  },
  {
   "cell_type": "markdown",
   "id": "d5a1b18b",
   "metadata": {},
   "source": [
    "### Комментарии"
   ]
  },
  {
   "cell_type": "markdown",
   "id": "901a0c2f",
   "metadata": {},
   "source": [
    "Комментарии выглядят так:"
   ]
  },
  {
   "cell_type": "code",
   "execution_count": null,
   "id": "752ef06f",
   "metadata": {},
   "outputs": [],
   "source": [
    "{# Это не зарендерится #}"
   ]
  },
  {
   "cell_type": "markdown",
   "id": "57344361",
   "metadata": {},
   "source": [
    "Тег обеспечивает многострочные комментарии."
   ]
  },
  {
   "cell_type": "code",
   "execution_count": null,
   "id": "bfc6bd61",
   "metadata": {},
   "outputs": [],
   "source": [
    "{% comment %}"
   ]
  },
  {
   "cell_type": "markdown",
   "id": "fa768f7b",
   "metadata": {},
   "source": [
    "## Использование render_to_string() и render()"
   ]
  },
  {
   "cell_type": "markdown",
   "id": "c7b5dc51",
   "metadata": {},
   "source": [
    "Перепишем представления приложения tasks с использованием шаблонов."
   ]
  },
  {
   "cell_type": "markdown",
   "id": "242a041b",
   "metadata": {},
   "source": [
    "Создайте внутри приложения tasks следующую директорию и поддиректорию:"
   ]
  },
  {
   "cell_type": "code",
   "execution_count": null,
   "id": "d603c262",
   "metadata": {},
   "outputs": [],
   "source": [
    "tasks/\n",
    "├── templates/\n",
    "    ├── tasks/"
   ]
  },
  {
   "cell_type": "markdown",
   "id": "17e7faec",
   "metadata": {},
   "source": [
    "По умолчанию, Django ищет шаблоны в подкаталоге templates нашего приложения. Чтобы избежать коллизий имен файлов всех приложений в templates приложения принято создавать еще один подкаталог с именем приложения. И уже в него помещать файлы шаблонов."
   ]
  },
  {
   "cell_type": "markdown",
   "id": "5f5208a8",
   "metadata": {},
   "source": [
    "Внутри новой поддиректории tasks создадим шаблон __index.html__:"
   ]
  },
  {
   "cell_type": "code",
   "execution_count": null,
   "id": "634d78d9",
   "metadata": {},
   "outputs": [],
   "source": [
    "<!DOCTYPE html>\n",
    "<html lang=\"en\">\n",
    "<head>\n",
    "    <meta charset=\"UTF-8\">\n",
    "    <title>Title</title>\n",
    "</head>\n",
    "<body>\n",
    "     <h1>Страница приложения tasks</h1>\n",
    "     <a href=\"{% url 'tasks:projects_list' %}\">Список проектов</a>\n",
    "</body>\n",
    "</html>"
   ]
  },
  {
   "cell_type": "markdown",
   "id": "3cb73ab2",
   "metadata": {},
   "source": [
    "В этом HTML-шаблоне используется шаблонный тег __{% url %}__, который генерирует URL по имени маршрута. В данном случае он создает ссылку на представление __projects_list__ в приложении __tasks__."
   ]
  },
  {
   "cell_type": "markdown",
   "id": "9cb831e1",
   "metadata": {},
   "source": [
    "Перейдем в файл __views.py__ и изменим представление __index()__:"
   ]
  },
  {
   "cell_type": "code",
   "execution_count": null,
   "id": "46849208",
   "metadata": {},
   "outputs": [],
   "source": [
    "from django.template.loader import render_to_string\n",
    "\n",
    "def index(request):\n",
    "    template = render_to_string('tasks/index.html')\n",
    "    return HttpResponse(template)"
   ]
  },
  {
   "cell_type": "markdown",
   "id": "2d441b16",
   "metadata": {},
   "source": [
    "Сначала мы импортируем функции, через которые запускается встроенный в Django шаблонизатор. В самом простом варианте можно использовать функцию __render_to_string__ пакета __django.template.loader__, которая загружает шаблон из файла, обрабатывает его и выдает результат в виде строки."
   ]
  },
  {
   "cell_type": "markdown",
   "id": "a79abcf8",
   "metadata": {},
   "source": [
    "При обновлении главной страницы приложения tasks в браузере, мы увидим этот шаблон. Но можно сделать еще лучше и воспользоваться функцией:"
   ]
  },
  {
   "cell_type": "code",
   "execution_count": null,
   "id": "1d0d8e30",
   "metadata": {},
   "outputs": [],
   "source": [
    "from django.shortcuts import render"
   ]
  },
  {
   "cell_type": "markdown",
   "id": "c7b0a966",
   "metadata": {},
   "source": [
    "которая объединяет в себе рендер шаблона и формирование ответа сервера. В результате функция представления index() может быть записана так:"
   ]
  },
  {
   "cell_type": "code",
   "execution_count": null,
   "id": "05288db4",
   "metadata": {},
   "outputs": [],
   "source": [
    "from django.shortcuts import render\n",
    "\n",
    "def index(request):\n",
    "    return render(request, 'tasks/index.html')"
   ]
  },
  {
   "cell_type": "markdown",
   "id": "ff35347f",
   "metadata": {},
   "source": [
    "При этом файл tasks/urls.py остается прежним:"
   ]
  },
  {
   "cell_type": "code",
   "execution_count": null,
   "id": "49dcb5b6",
   "metadata": {},
   "outputs": [],
   "source": [
    "from django.urls import path\n",
    "from tasks import views\n",
    "\n",
    "app_name = 'tasks'\n",
    "\n",
    "urlpatterns = [\n",
    "    path('', views.index),\n",
    "    path('projects/', views.projects_list, name='projects_list'),\n",
    "    path('projects/<int:project_id>/', views.project_detail, name='project_detail'),\n",
    "    path('projects/<int:project_id>/tasks/<int:task_id>/', views.task_detail, name='task_detail'),\n",
    "    # path('', views.IndexView.as_view(), name='index'),\n",
    "    # path('projects/', views.ProjectsListView.as_view(), name='projects_list'),\n",
    "    # path('projects/<int:project_id>/', views.ProjectDetailView.as_view(), name='project_detail'),\n",
    "    # path('projects/<int:project_id>/tasks/<int:task_id>/', views.TaskDetailView.as_view(), name='task_detail'),\n",
    "]"
   ]
  },
  {
   "cell_type": "markdown",
   "id": "c1bada66",
   "metadata": {},
   "source": [
    "## Передача данных в шаблоны"
   ]
  },
  {
   "cell_type": "markdown",
   "id": "d2ad5cec",
   "metadata": {},
   "source": [
    "### FBV (Представления основанные на функция)"
   ]
  },
  {
   "cell_type": "markdown",
   "id": "fd4697c4",
   "metadata": {},
   "source": [
    "В шаблонах можно прописывать конструкции для отображения информации, например, из переменных или БД. Перепишем представление  __projects_list()__ в __файле views.py__:"
   ]
  },
  {
   "cell_type": "code",
   "execution_count": null,
   "id": "93075c81",
   "metadata": {},
   "outputs": [],
   "source": [
    "def projects_list(request):\n",
    "    projects = Project.objects.all()\n",
    "    return render(request, 'tasks/projects_list.html', {'project_list': projects})"
   ]
  },
  {
   "cell_type": "markdown",
   "id": "fed5babb",
   "metadata": {},
   "source": [
    "Первым аргументом в функцию __render__ передается путь до шаблона __projects_list.html__, вторым аргументом передается __контекст - словарь с данными__, в нашем случае, список проектов."
   ]
  },
  {
   "cell_type": "markdown",
   "id": "4ffec4a9",
   "metadata": {},
   "source": [
    "Создадим шаблон __projects_list.html__ в templates/tasks/:"
   ]
  },
  {
   "cell_type": "code",
   "execution_count": null,
   "id": "a7937f60",
   "metadata": {},
   "outputs": [],
   "source": [
    "<!DOCTYPE html>\n",
    "<html lang=\"en\">\n",
    "<head>\n",
    "    <meta charset=\"UTF-8\">\n",
    "    <title>Title</title>\n",
    "</head>\n",
    "<body>\n",
    "    <h1>Список проектов</h1>\n",
    "    <ul>\n",
    "        {% for project in project_list %}\n",
    "            <li><a href=\"{% url 'tasks:project_detail' project.id %}\">{{ project.name }}</a></li>\n",
    "        {% endfor %}\n",
    "    </ul>\n",
    "</body>\n",
    "</html>"
   ]
  },
  {
   "cell_type": "markdown",
   "id": "400c55b3",
   "metadata": {},
   "source": [
    "   В данном шаблоне используется тег __{% for %}__ для того, чтобы циклом пройтись по всему списку __projects__. Внутри цикла мы обращаемся к атрибутам project через точку \".\" и выводим их, окружая __{{ ... }}__. В тег __{% url %}__ включается переменная __project.id__ для передачи ее по маршруту __project_detail__ в представление __project_detail()__."
   ]
  },
  {
   "cell_type": "markdown",
   "id": "f1e49d1d",
   "metadata": {},
   "source": [
    "Аналогично, перепишем __project_detail(), task_detail()__:"
   ]
  },
  {
   "cell_type": "code",
   "execution_count": null,
   "id": "26102d74",
   "metadata": {},
   "outputs": [],
   "source": [
    "def project_detail(request, project_id):\n",
    "    project = get_object_or_404(Project, id=project_id)\n",
    "    return render(request, 'tasks/project_detail.html', {'project': project})\n",
    "\n",
    "def task_detail(request, project_id, task_id):\n",
    "    task = get_object_or_404(Task, id=task_id, project_id=project_id)\n",
    "    return render(request, 'tasks/task_detail.html', {'task': task})"
   ]
  },
  {
   "cell_type": "markdown",
   "id": "f018a20a",
   "metadata": {},
   "source": [
    "И создадим соответствующие шаблоны:"
   ]
  },
  {
   "cell_type": "markdown",
   "id": "751e3be7",
   "metadata": {},
   "source": [
    "tasks/project_detail.html:"
   ]
  },
  {
   "cell_type": "code",
   "execution_count": null,
   "id": "7cc53d9b",
   "metadata": {},
   "outputs": [],
   "source": [
    "<!DOCTYPE html>\n",
    "<html lang=\"en\">\n",
    "<head>\n",
    "    <meta charset=\"UTF-8\">\n",
    "    <title>Title</title>\n",
    "</head>\n",
    "<body>\n",
    "    <h1>{{ project.name }}</h1>\n",
    "    <p>{{ project.description }}</p>\n",
    "\n",
    "    <h2>Задачи в проекте</h2>\n",
    "    <ul>\n",
    "        {% for task in project.tasks.all %}\n",
    "            <li><a href=\"{% url 'tasks:task_detail' project.id task.id %}\">{{ task.name }}</a> - {{ task.status }}</li>\n",
    "        {% empty %}\n",
    "            <li>В этом проекте пока нет задач.</li>\n",
    "        {% endfor %}\n",
    "    </ul>\n",
    "</body>\n",
    "</html>"
   ]
  },
  {
   "cell_type": "markdown",
   "id": "aa9cc2c4",
   "metadata": {},
   "source": [
    "   В данном случае используется цикл __{% for task in project.tasks.all %}__, чтобы перебрать все задачи, связанные с проектом. Здесь __project.tasks.all__ вызывает метод __all()__ менеджера связанных объектов для получения всех задач, связанных с этим проектом.<br></br>\n",
    "   Для каждой задачи создается гиперссылка, ведущая на страницу с деталями этой задачи. URL генерируется с помощью тега __{% url %}__, который принимает имя маршрута и параметры для генерации соответствующего URL.<br></br>\n",
    "   Условие __{% empty %}__: Это условие используется для отображения сообщения, если у проекта нет связанных задач."
   ]
  },
  {
   "cell_type": "markdown",
   "id": "5fc4c944",
   "metadata": {},
   "source": [
    "tasks/task_detail.html:"
   ]
  },
  {
   "cell_type": "code",
   "execution_count": null,
   "id": "5b7cbdc9",
   "metadata": {},
   "outputs": [],
   "source": [
    "<!DOCTYPE html>\n",
    "<html lang=\"en\">\n",
    "<head>\n",
    "    <meta charset=\"UTF-8\">\n",
    "    <title>Title</title>\n",
    "</head>\n",
    "<body>\n",
    "    <h1>{{ task.name }}</h1>\n",
    "    <p>{{ task.description }}</p>\n",
    "\n",
    "</body>\n",
    "</html>"
   ]
  },
  {
   "cell_type": "markdown",
   "id": "cb6901a6",
   "metadata": {},
   "source": [
    "Запустив тестовый сервер можно проверить, что все работает, но теперь наш код стал более структурированным и читаемым."
   ]
  },
  {
   "cell_type": "markdown",
   "id": "5e5246b4",
   "metadata": {},
   "source": [
    "### СBV (Представления основанные на классах)"
   ]
  },
  {
   "cell_type": "markdown",
   "id": "461824e4",
   "metadata": {},
   "source": [
    "СBV также поддерживают шаблоны. Перепишем представления __IndexView(), ProjectsListView(), ProjectDetailView(), TaskDetailView()__ в файле __views.py__: "
   ]
  },
  {
   "cell_type": "code",
   "execution_count": null,
   "id": "577ba976",
   "metadata": {},
   "outputs": [],
   "source": [
    "class IndexView(View):\n",
    "    def get(self, request, *args, **kwargs):\n",
    "        return render(request, 'tasks/index.html')"
   ]
  },
  {
   "cell_type": "markdown",
   "id": "734d51c5",
   "metadata": {},
   "source": [
    "   __IndexView__ в методе __get()__ переписан для использования метода __render__, который загружает шаблон __index.html__."
   ]
  },
  {
   "cell_type": "code",
   "execution_count": null,
   "id": "df027b30",
   "metadata": {},
   "outputs": [],
   "source": [
    "class ProjectsListView(ListView):\n",
    "    model = Project\n",
    "    template_name = 'tasks/projects_list.html'"
   ]
  },
  {
   "cell_type": "markdown",
   "id": "c7b0b59e",
   "metadata": {},
   "source": [
    "   __ProjectsListView__ автоматически использует шаблон __projects_list.html__, путь до которого прописывается в __template_name__. В шаблон автоматически передается контекст из списка  всех объектов __Project__. Это упрощает код, так как Django сам заботится о извлечении объектов и передаче их в шаблон."
   ]
  },
  {
   "cell_type": "code",
   "execution_count": null,
   "id": "3a23f076",
   "metadata": {},
   "outputs": [],
   "source": [
    "class ProjectDetailView(DetailView):\n",
    "    model = Project\n",
    "    pk_url_kwarg = 'project_id'\n",
    "    template_name = 'tasks/project_detail.html'"
   ]
  },
  {
   "cell_type": "markdown",
   "id": "8ccde27a",
   "metadata": {},
   "source": [
    "__ProjectDetailView__ автоматически обрабатывает объект __Project__ c __pk = project_id__, передавая его данные в шаблон __project_detail.html__. Это упрощает отображение деталей проекта и связанных с ним задач."
   ]
  },
  {
   "cell_type": "code",
   "execution_count": null,
   "id": "8c51ac5b",
   "metadata": {},
   "outputs": [],
   "source": [
    "class TaskDetailView(DetailView):\n",
    "    model = Task\n",
    "    pk_url_kwarg = 'task_id'\n",
    "    template_name = 'tasks/task_detail.html'"
   ]
  },
  {
   "cell_type": "markdown",
   "id": "80aa2e9e",
   "metadata": {},
   "source": [
    "__TaskDetailView__ использует шаблон __task_detail.html__ для отображения информации о задаче с __pk = task_id__."
   ]
  },
  {
   "cell_type": "markdown",
   "id": "d732e740",
   "metadata": {},
   "source": [
    "## Наследование шаблонов"
   ]
  },
  {
   "cell_type": "markdown",
   "id": "5150d9ab",
   "metadata": {},
   "source": [
    "   Наследование шаблонов в Django — это способ организации и повторного использования кода в шаблонах. Этот механизм позволяет создавать базовый \"скелет\" и затем расширять или модифицировать его в других шаблонах."
   ]
  },
  {
   "cell_type": "markdown",
   "id": "256386b8",
   "metadata": {},
   "source": [
    "Создайте директорию __templates__ и поддиректорию __base__ в корневой директории проекта:"
   ]
  },
  {
   "cell_type": "code",
   "execution_count": null,
   "id": "e14cf45f",
   "metadata": {},
   "outputs": [],
   "source": [
    "project_tracker/\n",
    "├── project_tracker/\n",
    "├── tasks/\n",
    "├── templates/\n",
    "    ├── base/"
   ]
  },
  {
   "cell_type": "markdown",
   "id": "8559fd15",
   "metadata": {},
   "source": [
    "Cоздайте файл __base/base.html__:"
   ]
  },
  {
   "cell_type": "code",
   "execution_count": null,
   "id": "2539c12d",
   "metadata": {},
   "outputs": [],
   "source": [
    "<!DOCTYPE html>\n",
    "<html lang=\"en\">\n",
    "<head>\n",
    "    <meta charset=\"UTF-8\">\n",
    "    <meta name=\"viewport\" content=\"width=device-width, initial-scale=1.0\">\n",
    "    <title>{% block title %}{% endblock %}</title>\n",
    "</head>\n",
    "<body>\n",
    "    <header>\n",
    "        <!-- Общий заголовок для всех страниц -->\n",
    "        <h1>Проект project-tracker</h1>\n",
    "    </header>\n",
    "\n",
    "    <nav>\n",
    "        <!-- Навигационное меню -->\n",
    "        <a href=\"{% url 'tasks:index' %}\">Приложение tasks</a>\n",
    "        <!-- Другие ссылки -->\n",
    "    </nav>\n",
    "\n",
    "    <main>\n",
    "        {% block content %}\n",
    "        <!-- Основное содержимое страницы -->\n",
    "        {% endblock %}\n",
    "    </main>\n",
    "\n",
    "    <footer>\n",
    "        <!-- Общий футер для всех страниц -->\n",
    "    </footer>\n",
    "</body>\n",
    "</html>"
   ]
  },
  {
   "cell_type": "markdown",
   "id": "beb26d6b",
   "metadata": {},
   "source": [
    "Это основной шаблон, содержащий общую структуру страницы (HTML-разметку, общий для всех страниц заголовок и футер)"
   ]
  },
  {
   "cell_type": "markdown",
   "id": "f50c9e44",
   "metadata": {},
   "source": [
    "Внутри основного шаблона определяются блоки (__{% block block_name %}__), которые будут переопределяться в дочерних шаблонах."
   ]
  },
  {
   "cell_type": "markdown",
   "id": "4dc0ec36",
   "metadata": {},
   "source": [
    "Настроим Django на поиск шаблонов в каталоге templates. Добавим в __settings.py__ в разделе __TEMPLATES__ следующее:"
   ]
  },
  {
   "cell_type": "code",
   "execution_count": null,
   "id": "dd579c07",
   "metadata": {},
   "outputs": [],
   "source": [
    "TEMPLATES = [\n",
    "    {\n",
    "        \"BACKEND\": \"django.template.backends.django.DjangoTemplates\",\n",
    "        # Изменен список \"DIRS  \n",
    "        \"DIRS\": [os.path.join(BASE_DIR, 'templates')],\n",
    "        \"APP_DIRS\": True,\n",
    "        \"OPTIONS\": {\n",
    "            \"context_processors\": [\n",
    "                \"django.template.context_processors.debug\",\n",
    "                \"django.template.context_processors.request\",\n",
    "                \"django.contrib.auth.context_processors.auth\",\n",
    "                \"django.contrib.messages.context_processors.messages\",\n",
    "            ],\n",
    "        },\n",
    "    },\n",
    "]"
   ]
  },
  {
   "cell_type": "markdown",
   "id": "08adfe27",
   "metadata": {},
   "source": [
    "Изменим шаблон __index.html__ приложения __tasks__:"
   ]
  },
  {
   "cell_type": "code",
   "execution_count": null,
   "id": "2a97e05d",
   "metadata": {},
   "outputs": [],
   "source": [
    "{% extends 'base/base.html' %}\n",
    "\n",
    "{% block content %}\n",
    "        <h1>Страница приложения tasks</h1>\n",
    "        <a href=\"{% url 'tasks:projects_list' %}\">Список проектов</a>\n",
    "{% endblock %}"
   ]
  },
  {
   "cell_type": "markdown",
   "id": "e3fd6f7c",
   "metadata": {},
   "source": [
    "__{% extends 'base/base.html' %}__ определяет, что __index.html__ \"наследует\" __base.html__."
   ]
  },
  {
   "attachments": {
    "Django-templates-1.png": {
     "image/png": "[encoded data removed]"
    }
   },
   "cell_type": "markdown",
   "id": "aa2ca264",
   "metadata": {},
   "source": [
    "![Django-templates-1.png](attachment:Django-templates-1.png)"
   ]
  },
  {
   "cell_type": "markdown",
   "id": "90414b84",
   "metadata": {},
   "source": [
    "Аналогично изменим остальные шаблоны приложения __tasks__:"
   ]
  },
  {
   "cell_type": "markdown",
   "id": "09ba3442",
   "metadata": {},
   "source": [
    "__projects_list.html:__"
   ]
  },
  {
   "cell_type": "code",
   "execution_count": null,
   "id": "aac2772f",
   "metadata": {},
   "outputs": [],
   "source": [
    "{% extends 'base/base.html' %}\n",
    "\n",
    "{% block content %}\n",
    "    <h1>Список проектов</h1>\n",
    "    <ul>\n",
    "        {% for project in project_list %}\n",
    "            <li><a href=\"{% url 'tasks:project_detail' project.id %}\">{{ project.name }}</a></li>\n",
    "        {% endfor %}\n",
    "    </ul>\n",
    "{% endblock %}"
   ]
  },
  {
   "attachments": {
    "Django-template-2.png": {
     "image/png": "[encoded data removed]"
    }
   },
   "cell_type": "markdown",
   "id": "e375d015",
   "metadata": {},
   "source": [
    "![Django-template-2.png](attachment:Django-template-2.png)"
   ]
  },
  {
   "cell_type": "markdown",
   "id": "638267a0",
   "metadata": {},
   "source": [
    "__project_detail.html:__"
   ]
  },
  {
   "cell_type": "code",
   "execution_count": null,
   "id": "7a65067e",
   "metadata": {},
   "outputs": [],
   "source": [
    "{% extends 'base/base.html' %}\n",
    "\n",
    "{% block content %}\n",
    "    <h1>{{ project.name }}</h1>\n",
    "    <p>{{ project.description }}</p>\n",
    "\n",
    "    <h2>Задачи в проекте</h2>\n",
    "    <ul>\n",
    "        {% for task in project.tasks.all %}\n",
    "            <li><a href=\"{% url 'tasks:task_detail' project.id task.id %}\">{{ task.name }}</a> - {{ task.status }}</li>\n",
    "        {% empty %}\n",
    "            <li>В этом проекте пока нет задач.</li>\n",
    "        {% endfor %}\n",
    "    </ul>\n",
    "{% endblock %}"
   ]
  },
  {
   "attachments": {
    "Djangp-template-3.png": {
     "image/png": "[encoded data removed]"
    }
   },
   "cell_type": "markdown",
   "id": "074e10cd",
   "metadata": {},
   "source": [
    "![Djangp-template-3.png](attachment:Djangp-template-3.png)"
   ]
  },
  {
   "cell_type": "markdown",
   "id": "707cae0d",
   "metadata": {},
   "source": [
    "__task_detail.html:__"
   ]
  },
  {
   "cell_type": "code",
   "execution_count": null,
   "id": "2cf28b91",
   "metadata": {},
   "outputs": [],
   "source": [
    "{% extends 'base/base.html' %}\n",
    "\n",
    "{% block content %}\n",
    "    <h1>{{ project.name }}</h1>\n",
    "    <p>{{ project.description }}</p>\n",
    "\n",
    "    <h2>Задачи в проекте</h2>\n",
    "    <ul>\n",
    "        {% for task in project.tasks.all %}\n",
    "            <li><a href=\"{% url 'tasks:task_detail' project.id task.id %}\">{{ task.name }}</a> - {{ task.status }}</li>\n",
    "        {% empty %}\n",
    "            <li>В этом проекте пока нет задач.</li>\n",
    "        {% endfor %}\n",
    "    </ul>\n",
    "{% endblock %}"
   ]
  },
  {
   "attachments": {
    "Django-template-4.png": {
     "image/png": "[encoded data removed]"
    }
   },
   "cell_type": "markdown",
   "id": "631899ad",
   "metadata": {},
   "source": [
    "![Django-template-4.png](attachment:Django-template-4.png)"
   ]
  },
  {
   "cell_type": "markdown",
   "id": "92bdaabf",
   "metadata": {},
   "source": [
    "Каждый из этих шаблонов переопределяет блок __content__. Весь остальной контент (заголовок, навигационное меню и футер) наследуется от __base.html__ без изменений."
   ]
  },
  {
   "cell_type": "markdown",
   "id": "cf3d88ae",
   "metadata": {},
   "source": [
    "__Преимущества наследования шаблонов:__\n",
    "   * __Переиспользование кода__: Общие элементы шаблонов нужно написать только один раз.\n",
    "   * __Легкость обслуживания__: Изменения в общих элементах сайта можно вносить в одном месте, а не в каждом шаблоне по отдельности.\n",
    "   * __Гибкость__: Можно легко создавать различные макеты страниц, наследуя один базовый шаблон и переопределяя необходимые блоки."
   ]
  },
  {
   "cell_type": "markdown",
   "id": "95c0bf5a",
   "metadata": {},
   "source": [
    "## Тег include"
   ]
  },
  {
   "cell_type": "markdown",
   "id": "367d7390",
   "metadata": {},
   "source": [
    "   Тег __{% include %}__ позволяет вставлять один шаблон в другой.<br></br> Это удобный способ повторного использования частей HTML-кода на разных страницах. Применение __{% include %}__ способствует уменьшению дублирования кода и упрощает управление изменениями в проекте.<br></br>\n",
    "   При использовании __{% include %}__, шаблон наследует контекст родительского шаблона. Это означает, что переменные, определенные в родительском шаблоне, будут доступны во вставленном шаблоне."
   ]
  },
  {
   "cell_type": "markdown",
   "id": "6e2e96da",
   "metadata": {},
   "source": [
    "Вынесем навигационное меню в отдельный шаблон. Создадим шаблон __base/nav.html__:"
   ]
  },
  {
   "cell_type": "code",
   "execution_count": null,
   "id": "0616bd77",
   "metadata": {},
   "outputs": [],
   "source": [
    "<nav>\n",
    "    <!-- Навигационное меню -->\n",
    "    <a href=\"{% url 'tasks:index' %}\">Приложение tasks</a>\n",
    "    <!-- Другие ссылки -->\n",
    "</nav>"
   ]
  },
  {
   "cell_type": "markdown",
   "id": "28e6a53d",
   "metadata": {},
   "source": [
    "И изменим __base/base.html__:"
   ]
  },
  {
   "cell_type": "code",
   "execution_count": null,
   "id": "d980af68",
   "metadata": {},
   "outputs": [],
   "source": [
    "<!DOCTYPE html>\n",
    "<html lang=\"en\">\n",
    "<head>\n",
    "    <meta charset=\"UTF-8\">\n",
    "    <meta name=\"viewport\" content=\"width=device-width, initial-scale=1.0\">\n",
    "    <title>{% block title %}{% endblock %}</title>\n",
    "</head>\n",
    "<body>\n",
    "    <header>\n",
    "        <!-- Общий заголовок для всех страниц -->\n",
    "      <h1>Проект project-tracker</h1>\n",
    "    </header>\n",
    "    {% include 'base/nav.html' %}\n",
    "    <main>\n",
    "        {% block content %}\n",
    "        <!-- Основное содержимое страницы -->\n",
    "        {% endblock %}\n",
    "    </main>\n",
    "\n",
    "    <footer>\n",
    "        <!-- Общий футер для всех страниц -->\n",
    "    </footer>\n",
    "</body>\n",
    "</html>\n"
   ]
  },
  {
   "cell_type": "markdown",
   "id": "ae8f1e96",
   "metadata": {},
   "source": [
    "При включении, шаблон __base/nav.html__ имеет доступ ко всем параметрам, которые передаются в шаблон."
   ]
  },
  {
   "cell_type": "markdown",
   "id": "c8e827fe",
   "metadata": {},
   "source": [
    "Чтобы запретить передачу переменных, то после пути к шаблону в теге include следует дополнительно прописать ключевое слово only:"
   ]
  },
  {
   "cell_type": "code",
   "execution_count": null,
   "id": "77f769c9",
   "metadata": {},
   "outputs": [],
   "source": [
    "{% include 'base/nav.html' only %}"
   ]
  },
  {
   "cell_type": "markdown",
   "id": "425fe8fb",
   "metadata": {},
   "source": [
    "Если нужно при этом передать отдельные параметры, то это можно сделать с помощью ключевого слова with следующим образом:"
   ]
  },
  {
   "cell_type": "code",
   "execution_count": null,
   "id": "7ccf47ad",
   "metadata": {},
   "outputs": [],
   "source": [
    "{% include 'base/nav.html' only with param='Django' %}"
   ]
  },
  {
   "cell_type": "markdown",
   "id": "90b4ce53",
   "metadata": {},
   "source": [
    "# Домашнее задание"
   ]
  },
  {
   "cell_type": "markdown",
   "id": "72e5d251",
   "metadata": {},
   "source": [
    "1. Создайте шаблоны для основных страниц приложения __quality_control__.\n",
    "2. При создании шаблонов используйте тег __{% extends %}__ для использования родительского шаблона __base.html__\n",
    "3. В шаблон навигационного меню добавьте гиперссылку на основную страницу приложения __quality_control__.\n",
    "4. Используя функцию __render__, перепишите все представления (FBV и CBV) приложения __quality_control__ для работы с соответствующими шаблонами."
   ]
  },
  {
   "cell_type": "markdown",
   "id": "a2ed1cfb",
   "metadata": {},
   "source": [
    "Ссылка на документацию Django: https://docs.djangoproject.com/en/5.0/"
   ]
  }
 ],
 "metadata": {
  "kernelspec": {
   "display_name": "Python 3 (ipykernel)",
   "language": "python",
   "name": "python3"
  },
  "language_info": {
   "codemirror_mode": {
    "name": "ipython",
    "version": 3
   },
   "file_extension": ".py",
   "mimetype": "text/x-python",
   "name": "python",
   "nbconvert_exporter": "python",
   "pygments_lexer": "ipython3",
   "version": "3.9.12"
  }
 },
 "nbformat": 4,
 "nbformat_minor": 5
}
