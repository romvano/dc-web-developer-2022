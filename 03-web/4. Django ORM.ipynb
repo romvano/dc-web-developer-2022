{
 "cells": [
  {
   "cell_type": "markdown",
   "id": "d7cc6809",
   "metadata": {},
   "source": [
    "# Django ORM"
   ]
  },
  {
   "cell_type": "markdown",
   "id": "32ce6ed6",
   "metadata": {},
   "source": [
    "   Встроенный в Django объектно-реляционный преобразователь __ORM (object-relational mapper)__ – это мощный API абстракции базы данных, который позволяет легко работать с объектами. ORM позволяет нам взаимодействовать с базой данных, используя высокоуровневые Python объекты, а не низкоуровневые SQL запросы. Это упрощает разработку и поддержку веб-приложений."
   ]
  },
  {
   "cell_type": "markdown",
   "id": "68e893e8",
   "metadata": {},
   "source": [
    "   __ORM-преобразователь__ соотносит модели с таблицами базы данных, генерирует SQL-запросы и соотносит результаты с объектами модели. ORM-преобразователь совместим с реляционными системами управления базами данных __MySQL, PostgreSQL, SQLite, Oracle и MariaDB__."
   ]
  },
  {
   "cell_type": "markdown",
   "id": "64d22d81",
   "metadata": {},
   "source": [
    "Базу данных проекта можно определять в настроечном параметре __DATABASES__ файла __settings.py__ проекта. Django может работать с несколькими базами данных одновременно, при этом можно программировать маршрутизаторы баз данных, чтобы создавать конкретно-прикладные схемы маршрутизации данных."
   ]
  },
  {
   "cell_type": "markdown",
   "id": "1fceb93b",
   "metadata": {},
   "source": [
    "Встроенный в Django ORM-преобразователь основан на итерируемых наборах запросов QuerySet. __Итерируемый набор запросов QuerySet__ – это коллекция запросов к базе данных, предназначенных для извлечения объектов из базы данных. К наборам запросов можно применять фильтры, чтобы сужать результаты запросов на основе заданных параметров."
   ]
  },
  {
   "cell_type": "markdown",
   "id": "bdb44536",
   "metadata": {},
   "source": [
    "## Создание объектов"
   ]
  },
  {
   "cell_type": "markdown",
   "id": "f8215c0d",
   "metadata": {},
   "source": [
    "Откройте терминал в корневой директории вашего проекта Django (на уровне с settings.py) и введите команду:"
   ]
  },
  {
   "cell_type": "code",
   "execution_count": null,
   "id": "322158eb",
   "metadata": {},
   "outputs": [],
   "source": [
    "python manage.py shell"
   ]
  },
  {
   "cell_type": "markdown",
   "id": "f75f0384",
   "metadata": {},
   "source": [
    "Это откроет интерактивную оболочку Python с загруженным Django окружением."
   ]
  },
  {
   "cell_type": "markdown",
   "id": "b429c6bd",
   "metadata": {},
   "source": [
    "Наберите следующие ниже строки:"
   ]
  },
  {
   "cell_type": "code",
   "execution_count": null,
   "id": "b4daf6ee",
   "metadata": {},
   "outputs": [],
   "source": [
    "from django.contrib.auth.models import User\n",
    "\n",
    "new_user = User.objects.create_user('username', 'email@example.com', 'password')\n",
    "new_user.first_name = 'Ivan'\n",
    "new_user.last_name = 'Ivanov'\n",
    "new_user.save()"
   ]
  },
  {
   "cell_type": "markdown",
   "id": "57eefee5",
   "metadata": {},
   "source": [
    "Проанализируем работу приведенного выше кода:\n",
    "   * Импортируется модель __User__ из __django.contrib.auth.models__ для работы с ней.\n",
    "   * Создается новый пользователя с указанными атрибутами. В Django для создания пользователя лучше использовать метод __create_user__, который обрабатывает некоторые важные аспекты, такие как хэширование пароля.\n",
    "   * __new_user.save()__ сохраняет объект __User__ в базе данных, используя метод __save()__."
   ]
  },
  {
   "cell_type": "markdown",
   "id": "b9080313",
   "metadata": {},
   "source": [
    "Пользователя можно получить из базы данных и вывести информацию:"
   ]
  },
  {
   "cell_type": "code",
   "execution_count": null,
   "id": "eeedd27c",
   "metadata": {},
   "outputs": [],
   "source": [
    "user = User.objects.get(username='username')\n",
    "print(user.first_name, user.last_name, user.email)"
   ]
  },
  {
   "cell_type": "markdown",
   "id": "269d7a3d",
   "metadata": {},
   "source": [
    "Этот код нам выведет внутри командной оболочки следующее:"
   ]
  },
  {
   "cell_type": "markdown",
   "id": "77d479cb",
   "metadata": {},
   "source": [
    "__Ivan Ivanov email@example.com__"
   ]
  },
  {
   "cell_type": "markdown",
   "id": "2a34c782",
   "metadata": {},
   "source": [
    "Метод __get()__ позволяет извлекать из базы данных только один объект.Этот метод ожидает результат, совпадающий с запросом. <br></br>Если база данных не возвращает результатов, то указанный метод вызовет исключение __DoesNotExist__, а если база данных возвращает более одного результата, то он вызовет исключение __MultipleObjectsReturned__. Оба исключения являются атрибутами модельного класса, на котором выполняется запрос."
   ]
  },
  {
   "cell_type": "markdown",
   "id": "f6f67e4f",
   "metadata": {},
   "source": [
    "Импортируем модели Project и Task.:"
   ]
  },
  {
   "cell_type": "code",
   "execution_count": null,
   "id": "cc2e2a47",
   "metadata": {},
   "outputs": [],
   "source": [
    "from tasks.models import Project, Task"
   ]
  },
  {
   "cell_type": "markdown",
   "id": "b5b9beb9",
   "metadata": {},
   "source": [
    "Наберите следующие ниже строки:"
   ]
  },
  {
   "cell_type": "code",
   "execution_count": null,
   "id": "1a825d5e",
   "metadata": {},
   "outputs": [],
   "source": [
    "project = Project(name=\"Web Development\", description=\"Web Development Project\")"
   ]
  },
  {
   "cell_type": "markdown",
   "id": "9e863e57",
   "metadata": {},
   "source": [
    "Мы создаем экземпляр класса Project с конкретным названием и описанием. Этот объект находится в памяти и не сохраняется в базе данных; мы создали объект Python, который можно использовать на стадии работы программы, но который не сохраняется в базе данных. Наконец, мы сохраняем объект Project в базе данных, используя метод __save()__:"
   ]
  },
  {
   "cell_type": "code",
   "execution_count": null,
   "id": "6ed2f6b9",
   "metadata": {},
   "outputs": [],
   "source": [
    "project.save()"
   ]
  },
  {
   "cell_type": "markdown",
   "id": "dfae255f",
   "metadata": {},
   "source": [
    "Приведенное выше действие за кулисами выполняет инструкцию SQL __INSERT__."
   ]
  },
  {
   "cell_type": "markdown",
   "id": "ce2e7761",
   "metadata": {},
   "source": [
    "Аналогично создадим объект Task:"
   ]
  },
  {
   "cell_type": "code",
   "execution_count": null,
   "id": "b8a880c0",
   "metadata": {},
   "outputs": [],
   "source": [
    "task = Task(\n",
    "    project=project,\n",
    "    name=\"Design Landing Page\",\n",
    "    description=\"Create a responsive landing page\",\n",
    "    assignee=user,\n",
    "    status='New'\n",
    ")\n",
    "task.save()"
   ]
  },
  {
   "cell_type": "markdown",
   "id": "4caa8f48",
   "metadata": {},
   "source": [
    "## Обновление объектов"
   ]
  },
  {
   "cell_type": "markdown",
   "id": "5de95372",
   "metadata": {},
   "source": [
    "Измените название задачи на что-то другое и снова сохраните объект:"
   ]
  },
  {
   "cell_type": "code",
   "execution_count": null,
   "id": "ce572c01",
   "metadata": {},
   "outputs": [],
   "source": [
    "task.name=\"Redesign Page\"\n",
    "task.save()"
   ]
  },
  {
   "cell_type": "markdown",
   "id": "e69d3aa3",
   "metadata": {},
   "source": [
    "На этот раз метод save() исполняет инструкцию SQL __UPDATE__."
   ]
  },
  {
   "cell_type": "markdown",
   "id": "9085921e",
   "metadata": {},
   "source": [
    "## Извлечение объектов"
   ]
  },
  {
   "cell_type": "markdown",
   "id": "47ceac81",
   "metadata": {},
   "source": [
    "   Одиночный объект извлекается из базы данных методом __get()__. Мы применили этот метод посредством метода __User.objects.get()__. Каждая модель Django имеет по меньшей мере один модельный менеджер, а менеджер, который применяется по умолчанию, называется __objects__. Набор запросов __QuerySet__ можно получать с помощью модельного менеджера.\n",
    "Для того чтобы извлечь все объекты из таблицы, используется метод __all()__ применяемого по умолчанию менеджера __objects__."
   ]
  },
  {
   "cell_type": "code",
   "execution_count": null,
   "id": "82202320",
   "metadata": {},
   "outputs": [],
   "source": [
    "all_projects = Project.objects.all()"
   ]
  },
  {
   "cell_type": "markdown",
   "id": "7313a157",
   "metadata": {},
   "source": [
    "   Обратите внимание, что этот __QuerySet__ еще не исполнен.<br></br>Наборы запросов QuerySet в Django являются ленивыми, то есть они вычисляются только тогда, когда это приходится делать. Подобное поведение придает наборам запросов QuerySet большую эффективность. Если не назначать набор запросов QuerySet переменной, а вместо этого писать его непосредственно в оболочке Python, то инструкция SQL набора запросов будет исполняться, потому что вы побуждаете ее генерировать результат:"
   ]
  },
  {
   "cell_type": "code",
   "execution_count": null,
   "id": "f6578047",
   "metadata": {},
   "outputs": [],
   "source": [
    "Project.objects.all()"
   ]
  },
  {
   "cell_type": "markdown",
   "id": "b4ee767a",
   "metadata": {},
   "source": [
    "__<QuerySet [<Project: Web Development>]>__"
   ]
  },
  {
   "cell_type": "markdown",
   "id": "d4a181fa",
   "metadata": {},
   "source": [
    "Для просмотра всех проектов и задач используем следующий код:"
   ]
  },
  {
   "cell_type": "code",
   "execution_count": null,
   "id": "dbf82a9a",
   "metadata": {},
   "outputs": [],
   "source": [
    "all_projects = Project.objects.all()\n",
    "all_tasks = Task.objects.all()\n",
    "for project in all_projects:\n",
    "    print(project)\n",
    "for task in all_tasks:\n",
    "    print(task)"
   ]
  },
  {
   "cell_type": "markdown",
   "id": "fba8f2e2",
   "metadata": {},
   "source": [
    "Для удаления объектов используется метод __delete()__:"
   ]
  },
  {
   "cell_type": "code",
   "execution_count": null,
   "id": "424babfd",
   "metadata": {},
   "outputs": [],
   "source": [
    "task.delete()"
   ]
  },
  {
   "cell_type": "markdown",
   "id": "6e203815",
   "metadata": {},
   "source": [
    "### Другие методы запросов в Django ORM"
   ]
  },
  {
   "cell_type": "markdown",
   "id": "0ea52eeb",
   "metadata": {},
   "source": [
    "1. Метод __filter()__:<br></br>\n",
    "Метод __filter()__ применяется для получения набора записей из базы данных, соответствующих определённым критериям. Этот метод возвращает QuerySet, который можно далее модифицировать или оценивать.<br></br>\n",
    "   * Фильтрация задач по статусу:<br></br>\n",
    "   Здесь мы получаем все задачи со статусом 'В работе'."
   ]
  },
  {
   "cell_type": "code",
   "execution_count": null,
   "id": "ff8286b5",
   "metadata": {},
   "outputs": [],
   "source": [
    "in_progress_tasks = Task.objects.filter(status='In_progress')\n",
    "for task in in_progress_tasks:\n",
    "    print(task.name, task.project.name)"
   ]
  },
  {
   "cell_type": "markdown",
   "id": "c7ee4963",
   "metadata": {},
   "source": [
    "\n",
    "   * Фильтрация проектов по дате создания:<br></br>\n",
    "   Если мы хотим найти проекты, созданные после определенной даты:"
   ]
  },
  {
   "cell_type": "code",
   "execution_count": null,
   "id": "d7ecfb38",
   "metadata": {},
   "outputs": [],
   "source": [
    "from datetime import datetime\n",
    "\n",
    "date_threshold = datetime(2022, 1, 1)\n",
    "recent_projects = Project.objects.filter(created_at__gt=date_threshold)\n",
    "for project in recent_projects:\n",
    "    print(project.name, project.created_at)"
   ]
  },
  {
   "cell_type": "markdown",
   "id": "ce18681d",
   "metadata": {},
   "source": [
    "Здесь __created_at\\_\\_gt__ означает \"больше, чем (gt - greater than) указанная дата\"."
   ]
  },
  {
   "cell_type": "markdown",
   "id": "1073b209",
   "metadata": {},
   "source": [
    "2. Метод __exclude()__:<br></br>\n",
    "Исключает записи, соответствующие определённым критериям."
   ]
  },
  {
   "cell_type": "code",
   "execution_count": null,
   "id": "063167cf",
   "metadata": {},
   "outputs": [],
   "source": [
    "non_completed_tasks = Task.objects.exclude(status='Completed')"
   ]
  },
  {
   "cell_type": "markdown",
   "id": "d679c777",
   "metadata": {},
   "source": [
    "3. Метод __order_by()__:<br></br>\n",
    "Упорядочивает QuerySet по определённому полю."
   ]
  },
  {
   "cell_type": "code",
   "execution_count": null,
   "id": "26223cbb",
   "metadata": {},
   "outputs": [],
   "source": [
    "tasks_ordered_by_creation = Task.objects.order_by('created_at')"
   ]
  },
  {
   "cell_type": "markdown",
   "id": "69985907",
   "metadata": {},
   "source": [
    "4. Метод __count()__:<br></br>\n",
    "Возвращает количество объектов, соответствующих запросу."
   ]
  },
  {
   "cell_type": "code",
   "execution_count": null,
   "id": "4093a1c2",
   "metadata": {},
   "outputs": [],
   "source": [
    "count_completed_tasks = Task.objects.filter(status='Completed').count()"
   ]
  },
  {
   "cell_type": "markdown",
   "id": "b9d2ab32",
   "metadata": {},
   "source": [
    "5. Метод __exists()__:<br></br>\n",
    "Возвращает __True__ или __False__ в зависимости от существуют ли в базе данных записи, соответствующие заданным критериям. "
   ]
  },
  {
   "cell_type": "code",
   "execution_count": null,
   "id": "a9dbe73f",
   "metadata": {},
   "outputs": [],
   "source": [
    "from tasks.models import Task\n",
    "\n",
    "if Task.objects.filter(status='New').exists():\n",
    "    print(\"Есть новые задачи\")\n",
    "else:\n",
    "    print(\"Новых задач нет\")"
   ]
  },
  {
   "cell_type": "markdown",
   "id": "7370f295",
   "metadata": {},
   "source": [
    "Если вам нужно работать с объектами, которые вы ищете (например, вывести их на экран или обновить), использование __exists()__ может быть неэффективным, так как вам всё равно придется выполнить дополнительный запрос для получения самих объектов. В таких случаях лучше сразу использовать __filter(), get()__ или другие методы QuerySet'ов, которые возвращают сами объекты."
   ]
  },
  {
   "cell_type": "markdown",
   "id": "926ad0e9",
   "metadata": {},
   "source": [
    "6. Методы __aggregate()__ и __annotate()__:<br></br>\n",
    "Используются для выполнения сложных агрегирующих запросов, таких как подсчёт, суммирование, средние значения."
   ]
  },
  {
   "cell_type": "markdown",
   "id": "47dca589",
   "metadata": {},
   "source": [
    "Метод __aggregate()__ применяется к QuerySet и используется для выполнения агрегатных функций на всем наборе данных, возвращая словарь с результатами вычислений.<br></br>\n",
    "Представим, что у вас есть модель __Sale__ с полями __amount__ и __date__. Вы хотите вычислить общую сумму продаж."
   ]
  },
  {
   "cell_type": "code",
   "execution_count": null,
   "id": "00b2aa6a",
   "metadata": {},
   "outputs": [],
   "source": [
    "from django.db.models import Sum\n",
    "from .models import Sale\n",
    "\n",
    "total_sales = Sale.objects.aggregate(total=Sum('amount'))\n",
    "print(total_sales['total'])"
   ]
  },
  {
   "cell_type": "markdown",
   "id": "b42c7f8e",
   "metadata": {},
   "source": [
    "Здесь __aggregate(total=Sum('amount')__ вычисляет сумму всех значений поля amount во всех записях Sale."
   ]
  },
  {
   "cell_type": "markdown",
   "id": "6fc94918",
   "metadata": {},
   "source": [
    "Метод __annotate()__ похож на __aggregate()__, но вместо вычисления агрегатных значений для всего QuerySet, он добавляет агрегатные значения к каждому объекту в QuerySet.<br></br>\n",
    "Предположим, у вас есть модели __Author__ и __Book__, где каждая книга связана с автором. Вы хотите получить список авторов с указанием общего числа их книг."
   ]
  },
  {
   "cell_type": "code",
   "execution_count": null,
   "id": "532e1c96",
   "metadata": {},
   "outputs": [],
   "source": [
    "from django.db.models import Count\n",
    "from .models import Author\n",
    "\n",
    "authors = Author.objects.annotate(num_books=Count('book'))\n",
    "for author in authors:\n",
    "    print(f\"{author.name} написал {author.num_books} книг(и)\")"
   ]
  },
  {
   "cell_type": "markdown",
   "id": "69292628",
   "metadata": {},
   "source": [
    "Здесь __annotate(num_books=Count('book'))__ добавляет к каждому объекту __Author__ дополнительное поле __num_books__, которое содержит количество связанных с автором книг."
   ]
  },
  {
   "cell_type": "markdown",
   "id": "99c19453",
   "metadata": {},
   "source": [
    "## Класс Q в Django"
   ]
  },
  {
   "cell_type": "markdown",
   "id": "cedc3edf",
   "metadata": {},
   "source": [
    "Класс __Q__ в __Django ORM__ используется для выполнения сложных запросов с использованием логических операторов (__AND, OR, NOT__). Класс __Q__ полезен, когда необходимо выполнить запросы с условиями, которые сложно или невозможно выразить с использованием стандартных методов QuerySet, таких как __filter()__ и __exclude()__."
   ]
  },
  {
   "cell_type": "markdown",
   "id": "60fe0577",
   "metadata": {},
   "source": [
    "Примеры запросов, использующих | (OR) и & (AND):"
   ]
  },
  {
   "cell_type": "code",
   "execution_count": null,
   "id": "dd1ec92c",
   "metadata": {},
   "outputs": [],
   "source": [
    "from django.db.models import Q\n",
    "from .models import MyModel\n",
    "\n",
    "# Пример OR\n",
    "queryset = MyModel.objects.filter(Q(field1='value1') | Q(field2='value2'))\n",
    "\n",
    "# Пример AND\n",
    "queryset = MyModel.objects.filter(Q(field1='value1') & Q(field3='value3'))"
   ]
  },
  {
   "cell_type": "markdown",
   "id": "e2d7203c",
   "metadata": {},
   "source": [
    "Сложные запросы с использованием вложенных выражений Q:"
   ]
  },
  {
   "cell_type": "code",
   "execution_count": null,
   "id": "62c49dab",
   "metadata": {},
   "outputs": [],
   "source": [
    "queryset = MyModel.objects.filter(\n",
    "    Q(field1='value1') | (Q(field2='value2') & ~Q(field4='value4'))\n",
    ")"
   ]
  },
  {
   "cell_type": "markdown",
   "id": "48ed68d9",
   "metadata": {},
   "source": [
    "__~Q__ \"инвертирует\" логику запроса. Это аналогично использованию __NOT__ в SQL."
   ]
  },
  {
   "cell_type": "code",
   "execution_count": null,
   "id": "b5f130cd",
   "metadata": {},
   "outputs": [],
   "source": [
    "from django.db.models import Q\n",
    "from .models import Task\n",
    "\n",
    "# Получить все задачи, которые не завершены\n",
    "tasks = Task.objects.filter(~Q(status='Completed'))"
   ]
  },
  {
   "cell_type": "markdown",
   "id": "bd3b927a",
   "metadata": {},
   "source": [
    "## Класс F и Value в Django"
   ]
  },
  {
   "cell_type": "markdown",
   "id": "d39e86f5",
   "metadata": {},
   "source": [
    "Класс __F__ представляет значение поля модели внутри запроса, он позволяет выполнить операции с полями модели без явного извлечения их из базы данных."
   ]
  },
  {
   "cell_type": "markdown",
   "id": "0304e7a9",
   "metadata": {},
   "source": [
    "   * Обновление поля:<br></br>\n",
    "   Инкрементирование значения поля:"
   ]
  },
  {
   "cell_type": "code",
   "execution_count": null,
   "id": "cd8e4856",
   "metadata": {},
   "outputs": [],
   "source": [
    "from django.db.models import F \n",
    "from tasks.models import Task\n",
    "\n",
    "Task.objects.filter(status='In_progress').update(priority=F('priority') + 1)"
   ]
  },
  {
   "cell_type": "markdown",
   "id": "4bd0189a",
   "metadata": {},
   "source": [
    "   * Сравнение полей одного объекта:<br></br>\n",
    "   Выбор задач, где дата обновления позже даты создания:"
   ]
  },
  {
   "cell_type": "code",
   "execution_count": null,
   "id": "f6796c1a",
   "metadata": {},
   "outputs": [],
   "source": [
    "recent_tasks = Task.objects.filter(updated_at__gt=F('created_at'))"
   ]
  },
  {
   "cell_type": "markdown",
   "id": "14aeb5f9",
   "metadata": {},
   "source": [
    "Выбор задач, где название проекта совпадает с именем исполнителя:"
   ]
  },
  {
   "cell_type": "code",
   "execution_count": null,
   "id": "c5979d30",
   "metadata": {},
   "outputs": [],
   "source": [
    "Task.objects.filter(project__name=F('assignee__username'))"
   ]
  },
  {
   "cell_type": "markdown",
   "id": "7b685ee2",
   "metadata": {},
   "source": [
    "Класс __Value__ используется для включения литеральных значений или выражений в запросы Django ORM."
   ]
  },
  {
   "cell_type": "markdown",
   "id": "456cc052",
   "metadata": {},
   "source": [
    "   * Добавление статического значения в запрос:"
   ]
  },
  {
   "cell_type": "code",
   "execution_count": null,
   "id": "8c319824",
   "metadata": {},
   "outputs": [],
   "source": [
    "from django.db.models import Value\n",
    "from django.db.models.functions import Concat\n",
    "from tasks.models import Task\n",
    "\n",
    "Task.objects.annotate(full_description=Concat(Value('Task: '), 'description'))"
   ]
  },
  {
   "cell_type": "markdown",
   "id": "9b0918d0",
   "metadata": {},
   "source": [
    "   * Обновление статуса задач на основе динамического условия:"
   ]
  },
  {
   "cell_type": "code",
   "execution_count": null,
   "id": "f40ffbc0",
   "metadata": {},
   "outputs": [],
   "source": [
    "Task.objects.filter(updated_at__gt=F('created_at')).update(status=Value('Completed'))"
   ]
  }
 ],
 "metadata": {
  "kernelspec": {
   "display_name": "Python 3 (ipykernel)",
   "language": "python",
   "name": "python3"
  },
  "language_info": {
   "codemirror_mode": {
    "name": "ipython",
    "version": 3
   },
   "file_extension": ".py",
   "mimetype": "text/x-python",
   "name": "python",
   "nbconvert_exporter": "python",
   "pygments_lexer": "ipython3",
   "version": "3.9.12"
  }
 },
 "nbformat": 4,
 "nbformat_minor": 5
}
