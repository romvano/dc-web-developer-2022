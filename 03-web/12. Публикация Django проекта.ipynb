{
 "cells": [
  {
   "cell_type": "markdown",
   "id": "63213094",
   "metadata": {},
   "source": [
    "# Публикация Django Проекта"
   ]
  },
  {
   "cell_type": "markdown",
   "id": "ff58fbdf",
   "metadata": {},
   "source": [
    "__Публикация проекта__ представляет собой процесс размещения вашего веб-приложения на сервере, чтобы оно стало доступно пользователям в интернете. Публикация — это финальный шаг, который позволяет проекту \"ожить\" и начать свою работу в реальном мире."
   ]
  },
  {
   "cell_type": "markdown",
   "id": "f22f5f08",
   "metadata": {},
   "source": [
    "## WSGI"
   ]
  },
  {
   "cell_type": "markdown",
   "id": "d20e3338",
   "metadata": {},
   "source": [
    "__WSGI (Web Server Gateway Interface)__ — протокол взаимодействия между Python-программой, выполняющейся на стороне сервера, и самим веб-сервером. Это стандартный интерфейс, который был разработан для того, чтобы обеспечить универсальную связь между серверами и приложениями.<br></br>\n",
    "__WSGI__ действует как прослойка между веб-приложением (например, написанным на __Django__) и веб-сервером (например, __Nginx__ или __Apache__).<br></br>\n",
    "Благодаря __WSGI__, разработчики могут создавать приложения, которые будут совместимы с любыми веб-серверами, поддерживающими __WSGI__, что обеспечивает гибкость в выборе и переключении серверов.<br></br>\n",
    "\n",
    "__WSGI-серверы__ реализуют интерфейс __WSGI__ и могут служить для размещения веб-приложений. Например, __Gunicorn__ и __uWSGI__ – популярные WSGI-серверы, часто используемые с __Django__."
   ]
  },
  {
   "cell_type": "markdown",
   "id": "710ae6ca",
   "metadata": {},
   "source": [
    "### Gunicorn (Green Unicorn)"
   ]
  },
  {
   "cell_type": "markdown",
   "id": "6407a15f",
   "metadata": {},
   "source": [
    "__Gunicorn__ - это __WSGI-сервер__ для UNIX, широко используемый в сообществе Django и Flask. Он является простым, быстрым и легким способом развертывания Python-приложений."
   ]
  },
  {
   "cell_type": "markdown",
   "id": "69782191",
   "metadata": {},
   "source": [
    "   * Gunicorn взаимодействует с веб-приложениями через WSGI-интерфейс. Он использует префорк-рабочую модель, запуская несколько рабочих процессов для обработки запросов.\n",
    "   * Отличается простотой настройки и не требует сложной конфигурации.\n",
    "   * Особенно подходит для развертывания стандартных веб-приложений и API."
   ]
  },
  {
   "cell_type": "markdown",
   "id": "cfe7b65a",
   "metadata": {},
   "source": [
    "### uWSGI"
   ]
  },
  {
   "cell_type": "markdown",
   "id": "9b974620",
   "metadata": {},
   "source": [
    "__uWSGI__ - это полнофункциональный сервер приложений для Python, который также реализует __WSGI-интерфейс__. Он предлагает больше функций по сравнению с __Gunicorn__ и используется для выполнения Python-приложений."
   ]
  },
  {
   "cell_type": "markdown",
   "id": "526ed710",
   "metadata": {},
   "source": [
    "   * Поддерживает различные протоколы и имеет свой собственный uwsgi протокол, который часто используется с __Nginx__.\n",
    "   * Предоставляет больше возможностей для настройки и оптимизации производительности.\n",
    "   * Более сложен в настройке по сравнению с __Gunicorn__, но предлагает дополнительную гибкость и функции."
   ]
  },
  {
   "cell_type": "markdown",
   "id": "d2345c9a",
   "metadata": {},
   "source": [
    "## ASGI"
   ]
  },
  {
   "cell_type": "markdown",
   "id": "08cc995a",
   "metadata": {},
   "source": [
    "__ASGI (Asynchronous Server Gateway Interface)__ – это эволюция WSGI, поддерживающая асинхронную обработку. Это позволяет использовать асинхронные фреймворки Python и улучшить производительность приложений, особенно для долгосрочных соединений, таких как __WebSocket__.<br></br>\n",
    "__ASGI__ поддерживает __как асинхронные, так и синхронные приложения__, делая его более универсальным по сравнению с __WSGI__."
   ]
  },
  {
   "cell_type": "markdown",
   "id": "55a07eb3",
   "metadata": {},
   "source": [
    "__ASGI-серверы__ способны обрабатывать асинхронные запросы через __ASGI__. Примеры включают __Daphne__, __Uvicorn__ и __Hypercorn__. Они часто используются для работы с __Django Channels__, который позволяет реализовывать функции, такие как чаты или уведомления в реальном времени."
   ]
  },
  {
   "cell_type": "markdown",
   "id": "c381263d",
   "metadata": {},
   "source": [
    "### Daphne"
   ]
  },
  {
   "cell_type": "markdown",
   "id": "36c65684",
   "metadata": {},
   "source": [
    "__Daphne__ - это __ASGI-сервер__, разработанный как часть проекта __Django Channels__. Он подходит для обработки асинхронных протоколов, таких как WebSockets, в дополнение к традиционным HTTP-запросам."
   ]
  },
  {
   "cell_type": "markdown",
   "id": "375acbbb",
   "metadata": {},
   "source": [
    "   * __Daphne__ был одним из первых серверов, поддерживающих __ASGI__, и может обрабатывать асинхронные и синхронные запросы.\n",
    "   * Рекомендуется использовать с __Django Channels__ для приложений, которым требуется взаимодействие в реальном времени."
   ]
  },
  {
   "cell_type": "markdown",
   "id": "0af63fe8",
   "metadata": {},
   "source": [
    "### Uvicorn"
   ]
  },
  {
   "cell_type": "markdown",
   "id": "44bbdb58",
   "metadata": {},
   "source": [
    "__Uvicorn__ - это быстрый __ASGI-сервер__, реализованный на Python. Он известен своей скоростью и простотой."
   ]
  },
  {
   "cell_type": "markdown",
   "id": "dd1f756a",
   "metadata": {},
   "source": [
    "   * Один из самых быстрых __ASGI-серверов__, благодаря использованию __uvloop__ и __httptools__.\n",
    "   * __Uvicorn__ легко настраивается и использует меньше ресурсов.\n",
    "   * Подходит для асинхронных Python-фреймворков, таких как __Starlette__ или __FastAPI__."
   ]
  },
  {
   "cell_type": "markdown",
   "id": "82254117",
   "metadata": {},
   "source": [
    "### Hypercorn"
   ]
  },
  {
   "cell_type": "markdown",
   "id": "a55b137c",
   "metadata": {},
   "source": [
    "__Hypercorn__ - это __ASGI-сервер__, поддерживающий __HTTP/2__ и разработанный с упором на совместимость с ASGI-спецификацией."
   ]
  },
  {
   "cell_type": "markdown",
   "id": "9b1579e7",
   "metadata": {},
   "source": [
    "   * Одно из ключевых преимуществ __Hypercorn__ заключается в его способности обрабатывать __HTTP/2__ запросы.\n",
    "   * Совместим с любыми ASGI-фреймворками и приложениями.\n",
    "   * Предоставляет широкие возможности настройки и поддерживает автоматическое переключение между __HTTP/1__ и __HTTP/2__."
   ]
  },
  {
   "cell_type": "markdown",
   "id": "868581e6",
   "metadata": {},
   "source": [
    "## Django и WSGI/ASGI"
   ]
  },
  {
   "cell_type": "markdown",
   "id": "9ef71d12",
   "metadata": {},
   "source": [
    "До версии __Django 3.0__, Django поддерживал только __WSGI__ для обработки запросов. Это означает, что Django-приложения могли работать на любом WSGI-совместимом сервере. <br></br>\n",
    "С версии __Django 3.0 и выше__, Django начал поддерживать и __ASGI__, что позволило использовать асинхронные функции Python в Django-приложениях."
   ]
  },
  {
   "cell_type": "markdown",
   "id": "3e2cc662",
   "metadata": {},
   "source": [
    "Выбор между __WSGI__ и __ASGI__ зависит от требований проекта. Для традиционных синхронных веб-приложений __WSGI__ по-прежнему является надежным выбором. Для приложений, требующих асинхронной обработки (например, для работы с WebSockets), __ASGI__ предлагает дополнительные преимущества."
   ]
  },
  {
   "cell_type": "markdown",
   "id": "698b1b49",
   "metadata": {},
   "source": [
    "## Nginx"
   ]
  },
  {
   "cell_type": "markdown",
   "id": "a3326124",
   "metadata": {},
   "source": [
    "__Nginx__ — это __HTTP-сервер__, обратный прокси-сервер, почтовый прокси-сервер, а также __TCP/UDP__ прокси-сервер общего назначения."
   ]
  },
  {
   "attachments": {
    "Django-deploy-1.png": {
     "image/png": "[encoded data removed]"
    }
   },
   "cell_type": "markdown",
   "id": "25c9c85c",
   "metadata": {},
   "source": [
    "![Django-deploy-1.png](attachment:Django-deploy-1.png)"
   ]
  },
  {
   "cell_type": "markdown",
   "id": "1ecea9b9",
   "metadata": {},
   "source": [
    "__Nginx__ может использоваться как __обратный прокси-сервер__ - тип прокси-сервера, который ретранслирует запросы клиентов из внешней сети на один или несколько серверов, логически расположенных во внутренней сети.<br></br>\n",
    "__Nginx__ будет принимать __HTTP__ запросы от клиента (браузера) и направлять их на сервер __uWsgi__ или __Gunicorn__. <br></br>\n",
    "__Сервер WSGI__ создает динамический контент, выполняя Python код.<br></br>\n",
    "Далее __сервер WSGI__ возвращает ответ формата __HTML, JSON или XML__, а обратный прокси-сервер __Nginx__ отправляет его клиенту.<br></br>\n",
    "Также __Nginx__ будет работать в качестве веб-сервера для предоставления статических ресурсов, таких как изображения, CSS-стили и JavaScript-файлов."
   ]
  },
  {
   "cell_type": "markdown",
   "id": "85db58e3",
   "metadata": {},
   "source": [
    "## Deploy"
   ]
  },
  {
   "cell_type": "markdown",
   "id": "5438e9ed",
   "metadata": {},
   "source": [
    "###  Первоначальная настройка сервера"
   ]
  },
  {
   "cell_type": "markdown",
   "id": "c9268d07",
   "metadata": {},
   "source": [
    "Подготовка сервера под управлением __Ubuntu 20.x__ к деплою веб-приложения включает в себя несколько ключевых шагов, которые обеспечивают безопасность и оптимальную настройку сервера."
   ]
  },
  {
   "cell_type": "markdown",
   "id": "7cd9998e",
   "metadata": {},
   "source": [
    "#### Обновление системы"
   ]
  },
  {
   "cell_type": "markdown",
   "id": "24b46a6a",
   "metadata": {},
   "source": [
    "Сразу после доступа к серверу выполните обновление всех пакетов, чтобы убедиться, что у вас установлены последние версии софта и исправления безопасности."
   ]
  },
  {
   "cell_type": "code",
   "execution_count": null,
   "id": "f76523db",
   "metadata": {},
   "outputs": [],
   "source": [
    "sudo apt update && sudo apt upgrade"
   ]
  },
  {
   "cell_type": "markdown",
   "id": "5686e788",
   "metadata": {},
   "source": [
    "#### Создание нового пользователя"
   ]
  },
  {
   "cell_type": "markdown",
   "id": "0682e299",
   "metadata": {},
   "source": [
    "По соображениям безопасности рекомендуется создать нового пользователя с привилегиями __sudo__ и использовать его вместо __root__."
   ]
  },
  {
   "cell_type": "code",
   "execution_count": null,
   "id": "46867efd",
   "metadata": {},
   "outputs": [],
   "source": [
    "sudo adduser username\n",
    "sudo usermod -aG sudo username\n",
    "su - username"
   ]
  },
  {
   "cell_type": "markdown",
   "id": "cea58b3f",
   "metadata": {},
   "source": [
    "###  Установка необходимого ПО"
   ]
  },
  {
   "cell_type": "markdown",
   "id": "8aaa09e6",
   "metadata": {},
   "source": [
    "Установим все необходимые пакеты."
   ]
  },
  {
   "cell_type": "code",
   "execution_count": null,
   "id": "d19b3757",
   "metadata": {},
   "outputs": [],
   "source": [
    "sudo apt install python3-pip python3-dev libpq-dev postgresql postgresql-contrib nginx curl git"
   ]
  },
  {
   "cell_type": "markdown",
   "id": "bcb90ec2",
   "metadata": {},
   "source": [
    "###  Копирование проекта"
   ]
  },
  {
   "cell_type": "markdown",
   "id": "2b1fcf1d",
   "metadata": {},
   "source": [
    "Перед копированием может быть полезно сжать ваш проект в архив. Это сократит время передачи. Например, если ваш проект находится в директории __myproject__, вы можете использовать команду __tar__ для создания архива:"
   ]
  },
  {
   "cell_type": "code",
   "execution_count": null,
   "id": "9cbde7df",
   "metadata": {},
   "outputs": [],
   "source": [
    "tar -czvf myproject.tar.gz /path/to/myproject"
   ]
  },
  {
   "cell_type": "markdown",
   "id": "22e1f7aa",
   "metadata": {},
   "source": [
    "Эта команда создаст сжатый архив __myproject.tar.gz__."
   ]
  },
  {
   "cell_type": "markdown",
   "id": "a5f28b43",
   "metadata": {},
   "source": [
    "Чтобы скопировать файл на сервер, используйте команду scp вместе с путем к архиву и целевым местоположением на сервере. Например:"
   ]
  },
  {
   "cell_type": "code",
   "execution_count": null,
   "id": "9042abdd",
   "metadata": {},
   "outputs": [],
   "source": [
    "scp /path/to/myproject.tar.gz username@server_ip:/path/to/destination"
   ]
  },
  {
   "cell_type": "markdown",
   "id": "d902f5b9",
   "metadata": {},
   "source": [
    "Здесь:\n",
    "\n",
    "   * __/path/to/myproject.tar.gz__ - путь к архиву на вашем локальном компьютере.\n",
    "   * __username__ - ваше имя пользователя на сервере.\n",
    "   * __server_ip__ - IP-адрес сервера.\n",
    "   * __/path/to/destination__ - путь на сервере, куда вы хотите скопировать архив."
   ]
  },
  {
   "cell_type": "markdown",
   "id": "cf74b30d",
   "metadata": {},
   "source": [
    "После копирования архива на сервер, войдите на сервер через SSH:"
   ]
  },
  {
   "cell_type": "code",
   "execution_count": null,
   "id": "16703a46",
   "metadata": {},
   "outputs": [],
   "source": [
    "ssh username@server_ip"
   ]
  },
  {
   "cell_type": "markdown",
   "id": "64b93cfb",
   "metadata": {},
   "source": [
    "Перейдите в директорию, куда был скопирован архив, и распакуйте его:"
   ]
  },
  {
   "cell_type": "code",
   "execution_count": null,
   "id": "8cc43990",
   "metadata": {},
   "outputs": [],
   "source": [
    "cd /path/to/destination\n",
    "tar -xzvf myproject.tar.gz"
   ]
  },
  {
   "cell_type": "markdown",
   "id": "78b45a77",
   "metadata": {},
   "source": [
    "Другим вариантом копирования проекта является клонирование из __github/gitlab__:"
   ]
  },
  {
   "cell_type": "code",
   "execution_count": null,
   "id": "6eedef90",
   "metadata": {},
   "outputs": [],
   "source": [
    "cd /path/to/destination\n",
    "mkdir myproject\n",
    "cd myproject\n",
    "git clone https://github.com/username/myproject.git"
   ]
  },
  {
   "cell_type": "markdown",
   "id": "9089ce46",
   "metadata": {},
   "source": [
    "###  Настройка Базы Данных"
   ]
  },
  {
   "cell_type": "markdown",
   "id": "24e307d9",
   "metadata": {},
   "source": [
    "Базы данных являются ключевой частью большинства веб-проектов. Вы можете выбрать между __SQL__ (например, PostgreSQL, MySQL) и __NoSQL__ (например, MongoDB) базами данных в зависимости от проекта.<br></br>\n",
    "Django из коробки предлагает хранить данные в __SQLite__. __SQLite__ — это быстрая и легкая встраиваемая однофайловая СУБД, которая позволяет хранить базу локально на одном устройстве. Для работы __SQLite__ не нужны сторонние библиотеки или службы."
   ]
  },
  {
   "cell_type": "markdown",
   "id": "75da10ef",
   "metadata": {},
   "source": [
    "SQLite прекрасно подходит для легких приложений, прототипов, встраиваемых систем и сценариев, где не требуется высокая производительность и масштабируемость. Однако для боевых веб-приложений, особенно тех, которые предполагают обработку большого количества транзакций или одновременный доступ множества пользователей, лучше выбрать более мощную СУБД, такую как __PostgreSQL__."
   ]
  },
  {
   "cell_type": "markdown",
   "id": "0c94b07d",
   "metadata": {},
   "source": [
    "__PostgreSQL__ -  более мощная и более гибкая СУБД.<br></br>\n",
    "По умолчанию __PostgreSQL__ использует для локальных соединений одноранговую аутентификацию. То есть, имя пользователя операционной системы совпадает с именем пользователя Postgres, соответственно этот пользователь может войти без аутентификации.<br></br>\n",
    "Во время установки Postgres можно создать пользователя операционной системы, например, __postgres__, который будет являться пользователем-администратором в СУБД. Этого пользователя необходимо использовать для выполнения административных задач."
   ]
  },
  {
   "cell_type": "markdown",
   "id": "94e004ec",
   "metadata": {},
   "source": [
    "__Настройка пользователя и базы данных:__"
   ]
  },
  {
   "cell_type": "code",
   "execution_count": null,
   "id": "1c8d1643",
   "metadata": {},
   "outputs": [],
   "source": [
    "sudo -u postgres createuser --interactive\n",
    "sudo -u postgres createdb mydatabase"
   ]
  },
  {
   "cell_type": "markdown",
   "id": "c1881707",
   "metadata": {},
   "source": [
    "__Настройка пароля и прав доступа:__"
   ]
  },
  {
   "cell_type": "code",
   "execution_count": null,
   "id": "42644d84",
   "metadata": {},
   "outputs": [],
   "source": [
    "sudo -u postgres psql"
   ]
  },
  {
   "cell_type": "markdown",
   "id": "72eb1254",
   "metadata": {},
   "source": [
    "Нам открывается командная строка базы данных для настройки. В SQL-командной строке:"
   ]
  },
  {
   "cell_type": "code",
   "execution_count": null,
   "id": "3e8cf9bf",
   "metadata": {},
   "outputs": [],
   "source": [
    "ALTER USER myuser WITH ENCRYPTED PASSWORD 'mypassword';\n",
    "GRANT ALL PRIVILEGES ON DATABASE mydatabase TO myuser;"
   ]
  },
  {
   "cell_type": "markdown",
   "id": "cebc261d",
   "metadata": {},
   "source": [
    "Выходим из командной строки:"
   ]
  },
  {
   "cell_type": "code",
   "execution_count": null,
   "id": "6d58fe85",
   "metadata": {},
   "outputs": [],
   "source": [
    "\\q"
   ]
  },
  {
   "cell_type": "markdown",
   "id": "12dbd67a",
   "metadata": {},
   "source": [
    "###  Настройка проекта"
   ]
  },
  {
   "cell_type": "markdown",
   "id": "c3ac0df5",
   "metadata": {},
   "source": [
    "Запускаем виртуальное окружение(если его нет, то создаем командой ниже)"
   ]
  },
  {
   "cell_type": "code",
   "execution_count": null,
   "id": "84d9baec",
   "metadata": {},
   "outputs": [],
   "source": [
    "# Создание виртуального окружения\n",
    "sudo apt install python3-venv\n",
    "python3 venv -v venv"
   ]
  },
  {
   "cell_type": "code",
   "execution_count": null,
   "id": "1da272d9",
   "metadata": {},
   "outputs": [],
   "source": [
    "source venv/bin/activate"
   ]
  },
  {
   "cell_type": "markdown",
   "id": "eb40397f",
   "metadata": {},
   "source": [
    "Установим необходимые пакеты:"
   ]
  },
  {
   "cell_type": "code",
   "execution_count": null,
   "id": "136113ce",
   "metadata": {},
   "outputs": [],
   "source": [
    "pip install django gunicorn uwsgi psycopg2-binary"
   ]
  },
  {
   "cell_type": "markdown",
   "id": "0d5fe5cf",
   "metadata": {},
   "source": [
    "Выходим из виртуального окружения:"
   ]
  },
  {
   "cell_type": "code",
   "execution_count": null,
   "id": "79560f5d",
   "metadata": {},
   "outputs": [],
   "source": [
    "deactivate"
   ]
  },
  {
   "cell_type": "markdown",
   "id": "6d94e9ea",
   "metadata": {},
   "source": [
    "Далее прописываем необходимые настройки проекта в файле __settings.py__ проекта."
   ]
  },
  {
   "cell_type": "markdown",
   "id": "30cc1f8b",
   "metadata": {},
   "source": [
    "Изменим __ALLOWED_HOSTS__:"
   ]
  },
  {
   "cell_type": "code",
   "execution_count": null,
   "id": "43a30ea4",
   "metadata": {},
   "outputs": [],
   "source": [
    "ALLOWED_HOSTS = ['your_server_domain_or_IP', 'second_domain_or_IP',...,\n",
    "                 'localhost']"
   ]
  },
  {
   "cell_type": "markdown",
   "id": "aaac9d06",
   "metadata": {},
   "source": [
    "В настройках базы данных указываем __Postgres__:"
   ]
  },
  {
   "cell_type": "code",
   "execution_count": null,
   "id": "27ec131d",
   "metadata": {},
   "outputs": [],
   "source": [
    "DATABASES = {\n",
    "    'default': {\n",
    "        'ENGINE': 'django.db.backends.postgresql_psycopg2',\n",
    "        'NAME': 'mydatabase',\n",
    "        'USER': 'myuser',\n",
    "        'PASSWORD': 'mypassword',\n",
    "        'HOST': 'localhost',\n",
    "        'PORT': '',\n",
    "    }\n",
    "}"
   ]
  },
  {
   "cell_type": "markdown",
   "id": "b9f3e7ab",
   "metadata": {},
   "source": [
    "Необходимо указать имя базы данных, имя только что созданного пользователя базы данных, пароль пользователя базы данных и указать, что базу данных можно найти на локальном компьютере (так как бд находится на том же сервере, что и проект). Вы можете оставить настройку PORT пустой."
   ]
  },
  {
   "cell_type": "markdown",
   "id": "87296a0c",
   "metadata": {},
   "source": [
    "Прописываем настройки статических файлов, для того, чтобы Nginx мог обрабатывать запросы на получение статических файлов."
   ]
  },
  {
   "cell_type": "code",
   "execution_count": null,
   "id": "d74d8c23",
   "metadata": {},
   "outputs": [],
   "source": [
    "STATIC_URL = '/static/’\n",
    "STATIC_ROOT = os.path.join(BASE_DIR, 'staticfiles/')\n",
    "STATICFILES_DIRS = [os.path.join(BASE_DIR, \"static\"),]"
   ]
  },
  {
   "cell_type": "markdown",
   "id": "f5d876b4",
   "metadata": {},
   "source": [
    "   * __STATIC_ROOT__: Абсолютный путь к каталогу, в котором будут собираться статические файлы во время деплоя проекта. \n",
    "   * __STATIC_URL__: Переменная, в которой хранится адрес до статических файлов, в основном используется методом static в шаблонах Django.\n",
    "   * __STATICFILES_DIRS__: Используется для включения каталогов для поиска статических файлов."
   ]
  },
  {
   "cell_type": "markdown",
   "id": "5ece3584",
   "metadata": {},
   "source": [
    "Файлы копируются в STATIC_ROOT командой:"
   ]
  },
  {
   "cell_type": "code",
   "execution_count": null,
   "id": "626aefb5",
   "metadata": {},
   "outputs": [],
   "source": [
    "python manage.py collectstatic"
   ]
  },
  {
   "cell_type": "markdown",
   "id": "1bac4089",
   "metadata": {},
   "source": [
    "Применяем миграции:"
   ]
  },
  {
   "cell_type": "code",
   "execution_count": null,
   "id": "a620323e",
   "metadata": {},
   "outputs": [],
   "source": [
    "python manage.py makemigrations\n",
    "python manage.py migrate"
   ]
  },
  {
   "cell_type": "markdown",
   "id": "7dc47172",
   "metadata": {},
   "source": [
    "Создаем администратора проекта:"
   ]
  },
  {
   "cell_type": "code",
   "execution_count": null,
   "id": "243040e4",
   "metadata": {},
   "outputs": [],
   "source": [
    "python manage.py createsuperuser"
   ]
  },
  {
   "cell_type": "markdown",
   "id": "8419be11",
   "metadata": {},
   "source": [
    "Собираем все статические файлы в настроенном каталоге, выполнив следующую команду:"
   ]
  },
  {
   "cell_type": "code",
   "execution_count": null,
   "id": "359c8fd8",
   "metadata": {},
   "outputs": [],
   "source": [
    "python manage.py collectstatic"
   ]
  },
  {
   "cell_type": "markdown",
   "id": "ca7b9dab",
   "metadata": {},
   "source": [
    "Чтобы протестировать сервер разработки, необходимо разрешить доступ к порту, который будем использовать. В этом случае создаем исключение для порта 8000:"
   ]
  },
  {
   "cell_type": "code",
   "execution_count": null,
   "id": "89989674",
   "metadata": {},
   "outputs": [],
   "source": [
    "sudo ufw allow 8000"
   ]
  },
  {
   "cell_type": "markdown",
   "id": "1bc548a3",
   "metadata": {},
   "source": [
    "Протестируем проект, запустив сервер разработки Django с помощью следующей команды:"
   ]
  },
  {
   "cell_type": "code",
   "execution_count": null,
   "id": "2366cf8b",
   "metadata": {},
   "outputs": [],
   "source": [
    "python manage.py runserver 0.0.0.0:8000"
   ]
  },
  {
   "cell_type": "markdown",
   "id": "50062e30",
   "metadata": {},
   "source": [
    "Откройте браузер на компьютере и проверьте доступность вашего проекта\n",
    "http://server_domain_or_IP:8000"
   ]
  },
  {
   "cell_type": "markdown",
   "id": "57db48fd",
   "metadata": {},
   "source": [
    "###  Настройка Gunicorn"
   ]
  },
  {
   "cell_type": "markdown",
   "id": "898869e0",
   "metadata": {},
   "source": [
    "В каталогe __/etc/systemd/system/__ создаем файл __gunicorn.socket__:"
   ]
  },
  {
   "cell_type": "code",
   "execution_count": null,
   "id": "a7f9609a",
   "metadata": {},
   "outputs": [],
   "source": [
    "cd /etc/systemd/system/\n",
    "sudo nano /etc/systemd/system/gunicorn.socket"
   ]
  },
  {
   "cell_type": "markdown",
   "id": "28e4b9f5",
   "metadata": {},
   "source": [
    "Вставляем следующие строки в файл __gunicorn.socket__:"
   ]
  },
  {
   "cell_type": "code",
   "execution_count": null,
   "id": "6d32bffb",
   "metadata": {},
   "outputs": [],
   "source": [
    "[Unit]\n",
    "Description=gunicorn socket\n",
    "\n",
    "[Socket]\n",
    "ListenStream=/run/gunicorn.sock\n",
    "\n",
    "[Install]\n",
    "WantedBy=sockets.target"
   ]
  },
  {
   "cell_type": "markdown",
   "id": "ac60a677",
   "metadata": {},
   "source": [
    "   * __[Unit]__ для описания сокета,\n",
    "   * __[Socket]__ для определения местоположения сокета\n",
    "   * __[Install]__ чтобы убедиться, что сокет создан в нужное время"
   ]
  },
  {
   "cell_type": "markdown",
   "id": "1187b68a",
   "metadata": {},
   "source": [
    "В каталогe __/etc/systemd/system/__ создаем файл __gunicorn.service__:"
   ]
  },
  {
   "cell_type": "code",
   "execution_count": null,
   "id": "cb8281b3",
   "metadata": {},
   "outputs": [],
   "source": [
    "sudo nano /etc/systemd/system/gunicorn.service"
   ]
  },
  {
   "cell_type": "markdown",
   "id": "3f2f3c65",
   "metadata": {},
   "source": [
    "Вставляем следующие строки в файл __gunicorn.service__"
   ]
  },
  {
   "cell_type": "code",
   "execution_count": null,
   "id": "9abe8524",
   "metadata": {},
   "outputs": [],
   "source": [
    "[Unit]\n",
    "Description=gunicorn daemon\n",
    "After=network.target\n",
    "\n",
    "[Service]\n",
    "User=username\n",
    "Group=www-data\n",
    "WorkingDirectory=/home/username/myproject\n",
    "ExecStart=/home/username/myproject/venv/bin/gunicorn --workers 3 --bind unix:/home/username/myproject/myproject.sock myproject.wsgi:application\n",
    "\n",
    "[Install]\n",
    "WantedBy=multi-user.target"
   ]
  },
  {
   "cell_type": "markdown",
   "id": "8821ddcd",
   "metadata": {},
   "source": [
    "   * __[Unit]__ указывает метаданные и зависимости.\n",
    "      * Добавляем сюда описание службы и указываем системе инициализации, чтобы она запускала эту службу только после достижения сетевой цели.\n",
    "   * __[Service]__ указывает пользователя и группу, под которыми будет запускаться процесс.\n",
    "      * Указываем, что обычная учетная запись пользователя является владельцем процесса, поскольку ему принадлежат все соответствующие файлы.\n",
    "      * Определяем рабочий каталог и указываем команду, которой будет запускаться служба. В этом случае указываем полный путь к исполняемому файлу Gunicorn, который установлен в виртуальной среде.\n",
    "      * Привязываем процесс к сокету Unix, который создался в каталоге /run, чтобы процесс мог взаимодействовать с Nginx. Здесь также можем указать любые дополнительные настройки Gunicorn. Для нашего примера мы указали 3 рабочих процесса\n",
    "   * __[Install]__ сообщает systemd, с чем связать эту службу, если включен ее запуск при загрузке.\n",
    "      * Укажем, чтобы эта служба запускалась при запуске и работе обычной многопользовательской системы."
   ]
  },
  {
   "cell_type": "markdown",
   "id": "21374c5f",
   "metadata": {},
   "source": [
    "###  Запуск Gunicorn"
   ]
  },
  {
   "cell_type": "markdown",
   "id": "361943a4",
   "metadata": {},
   "source": [
    "Активируйте и запустите службу:"
   ]
  },
  {
   "cell_type": "code",
   "execution_count": null,
   "id": "e59c1856",
   "metadata": {},
   "outputs": [],
   "source": [
    "sudo systemctl start gunicorn\n",
    "sudo systemctl enable gunicorn"
   ]
  },
  {
   "cell_type": "markdown",
   "id": "10efe449",
   "metadata": {},
   "source": [
    "### Настройка uWSGI"
   ]
  },
  {
   "cell_type": "markdown",
   "id": "7c5cc4bc",
   "metadata": {},
   "source": [
    "Для запуска приложения с __uWSGI__, необходимо настроить несколько параметров. Это можно сделать либо через командную строку, либо с помощью файла конфигурации (например, __uwsgi.ini__)."
   ]
  },
  {
   "cell_type": "markdown",
   "id": "317a79b4",
   "metadata": {},
   "source": [
    "Пример запуска uWSGI через командную строку для Django-приложения:"
   ]
  },
  {
   "cell_type": "code",
   "execution_count": null,
   "id": "c42f6e0e",
   "metadata": {},
   "outputs": [],
   "source": [
    "uwsgi --http :8000 --module myproject.wsgi"
   ]
  },
  {
   "cell_type": "markdown",
   "id": "703d4cac",
   "metadata": {},
   "source": [
    "Здесь __myproject.wsgi__ - это Python-модуль WSGI Django-приложения."
   ]
  },
  {
   "cell_type": "markdown",
   "id": "67967682",
   "metadata": {},
   "source": [
    "#### Использование файла конфигурации uWSGI"
   ]
  },
  {
   "cell_type": "markdown",
   "id": "dabf5a66",
   "metadata": {},
   "source": [
    "Создайте файл __uwsgi.ini__ с базовой конфигурацией:"
   ]
  },
  {
   "cell_type": "code",
   "execution_count": null,
   "id": "bdf6f52f",
   "metadata": {},
   "outputs": [],
   "source": [
    "[uwsgi]\n",
    "# имя модуля WSGI\n",
    "module = myproject.wsgi\n",
    "\n",
    "# полный путь к директории Django-проекта\n",
    "chdir = /path/to/your/project\n",
    "\n",
    "# протокол и порт для прослушивания\n",
    "http = :8000\n",
    "\n",
    "# количество процессов и потоков\n",
    "processes = 4\n",
    "threads = 2\n",
    "\n",
    "# файл для PID процесса\n",
    "pidfile = /path/to/your/project/uwsgi.pid\n",
    "\n",
    "# лог файл\n",
    "daemonize = /path/to/your/project/uwsgi.log"
   ]
  },
  {
   "cell_type": "markdown",
   "id": "6cf68742",
   "metadata": {},
   "source": [
    "###  Запуск uWSGI"
   ]
  },
  {
   "cell_type": "markdown",
   "id": "ca614bb1",
   "metadata": {},
   "source": [
    "Запустите uWSGI с этим файлом конфигурации:"
   ]
  },
  {
   "cell_type": "code",
   "execution_count": null,
   "id": "674a7628",
   "metadata": {},
   "outputs": [],
   "source": [
    "uwsgi --ini uwsgi.ini"
   ]
  },
  {
   "cell_type": "markdown",
   "id": "4b069338",
   "metadata": {},
   "source": [
    "### Настройка Nginx"
   ]
  },
  {
   "cell_type": "markdown",
   "id": "b06c9911",
   "metadata": {},
   "source": [
    "В нашем случае __Nginx__ настраивается как обратный прокси-сервер, для перенаправления запросов на __Gunicorn__, также __Nginx__ будет отдавать статические файлы по запросам."
   ]
  },
  {
   "cell_type": "markdown",
   "id": "009f6c17",
   "metadata": {},
   "source": [
    "Создадим файл настройки __Nginx__:"
   ]
  },
  {
   "cell_type": "code",
   "execution_count": null,
   "id": "abc3fca1",
   "metadata": {},
   "outputs": [],
   "source": [
    "sudo nano /etc/nginx/sites-available/myproject"
   ]
  },
  {
   "cell_type": "markdown",
   "id": "17255dc5",
   "metadata": {},
   "source": [
    "Добавим в него следующее:"
   ]
  },
  {
   "cell_type": "code",
   "execution_count": null,
   "id": "522ffa7f",
   "metadata": {},
   "outputs": [],
   "source": [
    "server {\n",
    "    listen 80;\n",
    "    server_name your_server_ip;\n",
    "\n",
    "    location /static/ {\n",
    "        root /home/username/your_project;\n",
    "    }\n",
    "\n",
    "    location / {\n",
    "        include proxy_params;\n",
    "        proxy_pass http://unix:/run/gunicorn.sock;\n",
    "    }\n",
    "}\n"
   ]
  },
  {
   "cell_type": "markdown",
   "id": "a2d82704",
   "metadata": {},
   "source": [
    "   * __listen__ определяет порт.\n",
    "   * __server_name__ задает доменные имена, на которые должен реагировать этот серверный блок.\n",
    "   * __location /__ определяет корневой URL.\n",
    "   * __proxy_pass__ перенаправляет запросы на другой сервер (в данном случае __Gunicorn__).\n",
    "   * __location /static/__ обслуживает статические файлы напрямую из __Nginx__, что повышает производительность."
   ]
  },
  {
   "cell_type": "markdown",
   "id": "dcb17b61",
   "metadata": {},
   "source": [
    "__Файлы конфигурации Nginx__:"
   ]
  },
  {
   "cell_type": "markdown",
   "id": "4387432c",
   "metadata": {},
   "source": [
    "   * __nginx.conf__ - общая конфигурация всего сервера и всех обслуживаемых сайтов.\n",
    "   * __site-available__ - конфигурации отдельных приложений.\n",
    "   * __sites-enabled__ - включённые сайты, здесь прописываются символические ссылки файлов конфигурации из __sites-available__ для быстрого включения, переключения или отключения."
   ]
  },
  {
   "cell_type": "markdown",
   "id": "1e2df22d",
   "metadata": {},
   "source": [
    "### Активация Nginx"
   ]
  },
  {
   "cell_type": "markdown",
   "id": "059c1afa",
   "metadata": {},
   "source": [
    "Для активации создайте символическую ссылку файла конфигурации из __sites-available__ в __sites-enabled__:"
   ]
  },
  {
   "cell_type": "code",
   "execution_count": null,
   "id": "da4facf2",
   "metadata": {},
   "outputs": [],
   "source": [
    "sudo ln -s /etc/nginx/sites-available/myproject /etc/nginx/sites-enabled"
   ]
  },
  {
   "cell_type": "markdown",
   "id": "20b5a92e",
   "metadata": {},
   "source": [
    "Перед перезагрузкой Nginx рекомендуется проверить конфигурацию на наличие ошибок:"
   ]
  },
  {
   "cell_type": "code",
   "execution_count": null,
   "id": "c6f04fcb",
   "metadata": {},
   "outputs": [],
   "source": [
    "nginx -t"
   ]
  },
  {
   "cell_type": "markdown",
   "id": "97e617e0",
   "metadata": {},
   "source": [
    "Если проверка конфигурации прошла успешно, перезагрузите NGINX для применения изменений:"
   ]
  },
  {
   "cell_type": "code",
   "execution_count": null,
   "id": "fa8316bd",
   "metadata": {},
   "outputs": [],
   "source": [
    "systemctl reload nginx"
   ]
  },
  {
   "cell_type": "markdown",
   "id": "f96eced9",
   "metadata": {},
   "source": [
    "Закрываем ранее открытый 8000 порт:"
   ]
  },
  {
   "cell_type": "code",
   "execution_count": null,
   "id": "0e4b9f92",
   "metadata": {},
   "outputs": [],
   "source": [
    "sudo ufw delete allow 8000"
   ]
  },
  {
   "cell_type": "markdown",
   "id": "15fb1f64",
   "metadata": {},
   "source": [
    "Настраиваем брандмауэр для __Nginx__:"
   ]
  },
  {
   "cell_type": "code",
   "execution_count": null,
   "id": "8e9abaed",
   "metadata": {},
   "outputs": [],
   "source": [
    "sudo ufw allow 'Nginx Full'"
   ]
  }
 ],
 "metadata": {
  "kernelspec": {
   "display_name": "Python 3 (ipykernel)",
   "language": "python",
   "name": "python3"
  },
  "language_info": {
   "codemirror_mode": {
    "name": "ipython",
    "version": 3
   },
   "file_extension": ".py",
   "mimetype": "text/x-python",
   "name": "python",
   "nbconvert_exporter": "python",
   "pygments_lexer": "ipython3",
   "version": "3.9.12"
  }
 },
 "nbformat": 4,
 "nbformat_minor": 5
}
